{
 "cells": [
  {
   "cell_type": "code",
   "execution_count": 56,
   "metadata": {},
   "outputs": [],
   "source": [
    "import os\n",
    "import time"
   ]
  },
  {
   "cell_type": "code",
   "execution_count": 40,
   "metadata": {},
   "outputs": [],
   "source": [
    "str = !pmset -g batt"
   ]
  },
  {
   "cell_type": "markdown",
   "metadata": {},
   "source": [
    "str[1][33:36][:]"
   ]
  },
  {
   "cell_type": "code",
   "execution_count": null,
   "metadata": {},
   "outputs": [],
   "source": [
    "prev = 100\n",
    "while(1):\n",
    "    str = !pmset -g batt\n",
    "    string = str[1][33:37]\n",
    "    if string[-1]=='%':\n",
    "        power = int(string[:-1])\n",
    "    elif string[-2]=='%':\n",
    "        power = int(string[:-2])\n",
    "    else:\n",
    "        power = int(string[:-3])\n",
    "    \n",
    "    if power!=prev:\n",
    "        \n",
    "        if power==100:\n",
    "            print(\"Charged!!!\" )\n",
    "            prev = power\n",
    "            \n",
    "        elif power<=12:\n",
    "            print(\"Low Charge!\")\n",
    "            prev = power\n",
    "\n",
    "        elif power<=6:\n",
    "            print(\"Critical!\")\n",
    "            prev = power\n",
    "            \n",
    "    time.sleep(60)"
   ]
  },
  {
   "cell_type": "code",
   "execution_count": null,
   "metadata": {},
   "outputs": [],
   "source": []
  }
 ],
 "metadata": {
  "kernelspec": {
   "display_name": "Python 3",
   "language": "python",
   "name": "python3"
  },
  "language_info": {
   "codemirror_mode": {
    "name": "ipython",
    "version": 3
   },
   "file_extension": ".py",
   "mimetype": "text/x-python",
   "name": "python",
   "nbconvert_exporter": "python",
   "pygments_lexer": "ipython3",
   "version": "3.6.8"
  }
 },
 "nbformat": 4,
 "nbformat_minor": 2
}
